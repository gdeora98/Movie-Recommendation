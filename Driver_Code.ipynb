{
 "cells": [
  {
   "cell_type": "code",
   "execution_count": 1,
   "metadata": {},
   "outputs": [],
   "source": [
    "import numpy as np\n",
    "import pandas as pd\n",
    "from sklearn.feature_extraction.text import CountVectorizer\n",
    "from sklearn.metrics.pairwise import cosine_similarity\n",
    "import pickle\n",
    "import requests\n",
    "import bs4 as bs\n",
    "import urllib.request"
   ]
  },
  {
   "cell_type": "code",
   "execution_count": 2,
   "metadata": {},
   "outputs": [],
   "source": [
    "filename = 'nlp_model2.pkl'\n",
    "clf = pickle.load(open(filename, 'rb'))\n",
    "vectorizer = pickle.load(open('tranform.pkl','rb'))"
   ]
  },
  {
   "cell_type": "code",
   "execution_count": 3,
   "metadata": {},
   "outputs": [],
   "source": [
    "def rcmd(m):\n",
    "    m = m.lower()\n",
    "    data, similarity = create_similarity()\n",
    "    if m not in data['movie_title'].unique():\n",
    "        return(\"Sorry! The movie you requested is not in our database. Please check the spelling or try with some other movies\")\n",
    "    else:\n",
    "        i = data.loc[data['movie_title']==m].index[0]\n",
    "        lst = list(enumerate(similarity[i]))\n",
    "        lst = sorted(lst, key = lambda x:x[1] ,reverse=True)\n",
    "        lst = lst[1:11]\n",
    "        l = []\n",
    "        for i in range(len(lst)):\n",
    "            a = lst[i][0]\n",
    "            l.append(data['movie_title'][a])\n",
    "        return l"
   ]
  },
  {
   "cell_type": "code",
   "execution_count": 4,
   "metadata": {},
   "outputs": [],
   "source": [
    "def create_similarity():\n",
    "    data = pd.read_csv('final_data.csv')\n",
    "    cv = CountVectorizer()\n",
    "    count_matrix = cv.fit_transform(data['comb'])\n",
    "    similarity = cosine_similarity(count_matrix)\n",
    "    return data,similarity"
   ]
  },
  {
   "cell_type": "code",
   "execution_count": 5,
   "metadata": {},
   "outputs": [],
   "source": [
    "def reviews (m):\n",
    "    imdb_id=get_imdb_id(m)\n",
    "    sauce = urllib.request.urlopen('https://www.imdb.com/title/{}/reviews?ref_=tt_ov_rt'.format(imdb_id)).read()\n",
    "    soup = bs.BeautifulSoup(sauce,'lxml')\n",
    "    soup_result = soup.find_all(\"div\",{\"class\":\"text show-more__control\"})\n",
    "    if(len(soup_result)>0):\n",
    "        return (soup_result)\n",
    "    else:\n",
    "        return (\"Reviews Not Accessible! Kindly Search for Another Movie!!\")"
   ]
  },
  {
   "cell_type": "code",
   "execution_count": 6,
   "metadata": {},
   "outputs": [],
   "source": [
    "def get_imdb_id (m):\n",
    "    m = m.lower()\n",
    "    api_key=\"f107e39c1038a32e3f1fec8a62383ec1\"\n",
    "    r = requests.get(url = \"https://api.themoviedb.org/3/search/movie?api_key=\"+api_key+\"&query=\"+m).json()\n",
    "    if(len(r[\"results\"])>0):\n",
    "        movie_id=r[\"results\"][0][\"id\"]\n",
    "        s= requests.get(url=\"https://api.themoviedb.org/3/movie/{}?api_key=f107e39c1038a32e3f1fec8a62383ec1\".format(movie_id)).json()\n",
    "        if(len(s[\"imdb_id\"])>0):\n",
    "            return (s[\"imdb_id\"])\n",
    "        else:\n",
    "            return (\"Imdb ID Not Available\")\n",
    "    else:\n",
    "        return(\"Movie ID not Available\")"
   ]
  },
  {
   "cell_type": "code",
   "execution_count": 7,
   "metadata": {},
   "outputs": [],
   "source": [
    "def sentiments(s):\n",
    "    reviews_list = [] \n",
    "    reviews_status = [] \n",
    "    for reviews in s:\n",
    "        if reviews.string:\n",
    "            reviews_list.append(reviews.string)\n",
    "            movie_review_list = np.array([reviews.string])\n",
    "            movie_vector = vectorizer.transform(movie_review_list)\n",
    "            pred = clf.predict(movie_vector)\n",
    "            reviews_status.append('Positive' if pred else 'Negative')\n",
    "    movie_reviews = {reviews_list[i]: reviews_status[i] for i in range(len(reviews_list))}  \n",
    "    return(movie_reviews)"
   ]
  },
  {
   "cell_type": "code",
   "execution_count": 8,
   "metadata": {},
   "outputs": [],
   "source": [
    "def similarity():\n",
    "    movie = input(\"Enter Movie Name:\")\n",
    "    rc = rcmd(movie)\n",
    "    print(\"Top 10 Movie Recommndations -- >\")\n",
    "    for i in rc:\n",
    "          print(i)\n",
    "    sc= reviews(movie)\n",
    "    if(sc==\"Reviews Not Accessible! Kindly Search for Another Movie!!\"):\n",
    "        print(sc)\n",
    "    else:\n",
    "        print(\"\\n\\n\")\n",
    "        print(\"Sentiment Analysis -->\")\n",
    "        sentiment_analysis=sentiments(sc)\n",
    "        for i in sentiment_analysis:\n",
    "            print(i)\n",
    "            print(\"\\t\")\n",
    "            print(sentiment_analysis[i])\n",
    "            print(\"\\n\")"
   ]
  },
  {
   "cell_type": "code",
   "execution_count": 9,
   "metadata": {},
   "outputs": [
    {
     "name": "stdout",
     "output_type": "stream",
     "text": [
      "Enter Movie Name:banshee chapter\n",
      "Top 10 Movie Recommndations -- >\n",
      "eden lake\n",
      "final destination 2\n",
      "saw\n",
      "sleepy hollow            \n",
      "haywire\n",
      "red state\n",
      "creepshow 2\n",
      "the lords of salem\n",
      "below zero\n",
      "alien: covenant\n",
      "\n",
      "\n",
      "\n",
      "Sentiment Analysis -->\n",
      "I really wanted to like this film. But there was so many things being thrown in the mix it's was just too much to take. Number stations, mk ultra, drugs, government conspiracies, and a barrage of scenes which never really give the viewer time to build up to a feeling of dread. They're just delivered to you in a quick fire fashion and even the \"face at the window\" shots are so quick you can't define them sometimes. I have to say I liked the Ted Levine character Blackburn as he played it with gusto right to the end. But apart from the outlandish story there are many plot holes and the ending just wasn't that satisfying for me. Still, I respect any new director trying something a little different.\n",
      "\t\n",
      "Positive\n",
      "\n",
      "\n",
      "The Banshee Chapter is a decent horror flick with a lot of potential that unfortunately fails to deliver on most counts. The film starts really well, but sadly doesn't manage to keep up with its early promise. It does have a few genuinely nail biting moments in it however, which make it well worth a watch. I would recommend approaching this film in the knowledge that it is a highly flawed yet enjoyable hour and a half, so that you aren't disappointed and can enjoy the film for what it is; A relatively well- made chiller with some very good ideas, executed clumsily. I feel that with a tightening of the plot and a better lead actress, there could have been a really excellent film here. Still, The Banshee Chapter is much better than the majority of horror films out there, and definitely worth viewing at least once if you're in the mood for a fright.\n",
      "\t\n",
      "Positive\n",
      "\n",
      "\n",
      "Very unique horror movie that combines Lovecraft's \"From Beyond\" and MK Ultra mind control experiments.\n",
      "It has a creepy atmosphere and disturbing images that will definitely stay with you after watching.\n",
      "Definitely above your usual horror flick.\n",
      "\t\n",
      "Negative\n",
      "\n",
      "\n"
     ]
    }
   ],
   "source": [
    "similarity()"
   ]
  }
 ],
 "metadata": {
  "kernelspec": {
   "display_name": "Python 3",
   "language": "python",
   "name": "python3"
  },
  "language_info": {
   "codemirror_mode": {
    "name": "ipython",
    "version": 3
   },
   "file_extension": ".py",
   "mimetype": "text/x-python",
   "name": "python",
   "nbconvert_exporter": "python",
   "pygments_lexer": "ipython3",
   "version": "3.8.5"
  }
 },
 "nbformat": 4,
 "nbformat_minor": 4
}
